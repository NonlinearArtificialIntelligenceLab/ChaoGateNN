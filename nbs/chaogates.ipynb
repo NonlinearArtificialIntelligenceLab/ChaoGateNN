{
 "cells": [
  {
   "cell_type": "code",
   "execution_count": 1,
   "metadata": {},
   "outputs": [],
   "source": [
    "DELTA = 1 / 4\n",
    "\n",
    "AND_X = 0\n",
    "OR_X = 1 / 8\n",
    "XOR_X = 1 / 4\n",
    "NAND_X = 3 / 8\n",
    "\n",
    "AND_TRUE = 3 / 4\n",
    "OR_TRUE = 11 / 16\n",
    "XOR_TRUE = 3 / 4\n",
    "NAND_TRUE = 11 / 16"
   ]
  },
  {
   "cell_type": "code",
   "execution_count": 2,
   "metadata": {},
   "outputs": [],
   "source": [
    "def logistic_map(x: float, a: float = 4):\n",
    "    \"\"\"Logistic map function\"\"\"\n",
    "    return a * x * (1 - x)"
   ]
  },
  {
   "cell_type": "code",
   "execution_count": 3,
   "metadata": {},
   "outputs": [],
   "source": [
    "def chao_gate_factory(DELTA: float, X0: float, X_TRUE: float):\n",
    "    \"\"\"Return a function that implements a chao gate\"\"\"\n",
    "\n",
    "    def chao_gate(x: bool, y: bool):\n",
    "        \"\"\"Chao gate function\"\"\"\n",
    "        return logistic_map(X0 + x * DELTA + y * DELTA) > X_TRUE\n",
    "\n",
    "    return chao_gate"
   ]
  },
  {
   "cell_type": "code",
   "execution_count": 4,
   "metadata": {},
   "outputs": [],
   "source": [
    "chao_AND = chao_gate_factory(DELTA, AND_X, AND_TRUE)\n",
    "\n",
    "assert chao_AND(False, False) is False\n",
    "assert chao_AND(True, False) is False\n",
    "assert chao_AND(False, True) is False\n",
    "assert chao_AND(True, True) is True"
   ]
  },
  {
   "cell_type": "code",
   "execution_count": 5,
   "metadata": {},
   "outputs": [],
   "source": [
    "chao_OR = chao_gate_factory(DELTA, OR_X, OR_TRUE)\n",
    "\n",
    "assert chao_OR(False, False) is False\n",
    "assert chao_OR(True, False) is True\n",
    "assert chao_OR(False, True) is True\n",
    "assert chao_OR(True, True) is True"
   ]
  },
  {
   "cell_type": "code",
   "execution_count": 6,
   "metadata": {},
   "outputs": [],
   "source": [
    "chao_XOR = chao_gate_factory(DELTA, XOR_X, XOR_TRUE)\n",
    "\n",
    "assert chao_XOR(False, False) is False\n",
    "assert chao_XOR(True, False) is True\n",
    "assert chao_XOR(False, True) is True\n",
    "assert chao_XOR(True, True) is False"
   ]
  },
  {
   "cell_type": "code",
   "execution_count": 7,
   "metadata": {},
   "outputs": [],
   "source": [
    "chao_NAND = chao_gate_factory(DELTA, NAND_X, NAND_TRUE)\n",
    "\n",
    "assert chao_NAND(False, False) is True\n",
    "assert chao_NAND(True, False) is True\n",
    "assert chao_NAND(False, True) is True\n",
    "assert chao_NAND(True, True) is False"
   ]
  },
  {
   "cell_type": "code",
   "execution_count": null,
   "metadata": {},
   "outputs": [],
   "source": []
  }
 ],
 "metadata": {
  "kernelspec": {
   "display_name": ".venv",
   "language": "python",
   "name": "python3"
  },
  "language_info": {
   "codemirror_mode": {
    "name": "ipython",
    "version": 3
   },
   "file_extension": ".py",
   "mimetype": "text/x-python",
   "name": "python",
   "nbconvert_exporter": "python",
   "pygments_lexer": "ipython3",
   "version": "3.12.5"
  }
 },
 "nbformat": 4,
 "nbformat_minor": 2
}
