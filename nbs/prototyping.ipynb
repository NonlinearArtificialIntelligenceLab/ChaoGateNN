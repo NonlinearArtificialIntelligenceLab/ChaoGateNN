{
 "cells": [
  {
   "cell_type": "code",
   "execution_count": 22,
   "metadata": {},
   "outputs": [],
   "source": [
    "DELTA = 1 / 4\n",
    "\n",
    "AND_X = 0\n",
    "OR_X = 1 / 8\n",
    "XOR_X = 1 / 4\n",
    "NAND_X = 3 / 8\n",
    "\n",
    "AND_TRUE = 3 / 4\n",
    "OR_TRUE = 11 / 16\n",
    "XOR_TRUE = 3 / 4\n",
    "NAND_TRUE = 11 / 16"
   ]
  },
  {
   "cell_type": "code",
   "execution_count": 23,
   "metadata": {},
   "outputs": [],
   "source": [
    "def logistic_map(x: float, a: float = 4):\n",
    "    \"\"\"Logistic map function.\"\"\"\n",
    "    return a * x * (1 - x)"
   ]
  },
  {
   "cell_type": "code",
   "execution_count": 24,
   "metadata": {},
   "outputs": [],
   "source": [
    "def chaotic_and(x: bool, y: bool):\n",
    "    \"\"\"Chaotic AND gate.\"\"\"\n",
    "    return logistic_map(AND_X + x * DELTA + y * DELTA) > AND_TRUE"
   ]
  },
  {
   "cell_type": "code",
   "execution_count": 25,
   "metadata": {},
   "outputs": [
    {
     "data": {
      "text/plain": [
       "(False, False, False, True)"
      ]
     },
     "execution_count": 25,
     "metadata": {},
     "output_type": "execute_result"
    }
   ],
   "source": [
    "# | test\n",
    "(\n",
    "    chaotic_and(False, False),\n",
    "    chaotic_and(False, True),\n",
    "    chaotic_and(True, False),\n",
    "    chaotic_and(True, True),\n",
    ")"
   ]
  },
  {
   "cell_type": "code",
   "execution_count": 26,
   "metadata": {},
   "outputs": [],
   "source": [
    "def chaotic_or(x: bool, y: bool):\n",
    "    \"\"\"Chaotic OR gate.\"\"\"\n",
    "    return logistic_map(OR_X + x * DELTA + y * DELTA) > OR_TRUE"
   ]
  },
  {
   "cell_type": "code",
   "execution_count": 27,
   "metadata": {},
   "outputs": [
    {
     "data": {
      "text/plain": [
       "(False, True, True, True)"
      ]
     },
     "execution_count": 27,
     "metadata": {},
     "output_type": "execute_result"
    }
   ],
   "source": [
    "# | test\n",
    "(\n",
    "    chaotic_or(False, False),\n",
    "    chaotic_or(False, True),\n",
    "    chaotic_or(True, False),\n",
    "    chaotic_or(True, True),\n",
    ")"
   ]
  },
  {
   "cell_type": "code",
   "execution_count": 28,
   "metadata": {},
   "outputs": [],
   "source": [
    "def chaotic_xor(x: bool, y: bool):\n",
    "    \"\"\"Chaotic XOR gate.\"\"\"\n",
    "    return logistic_map(XOR_X + x * DELTA + y * DELTA) > XOR_TRUE"
   ]
  },
  {
   "cell_type": "code",
   "execution_count": 29,
   "metadata": {},
   "outputs": [
    {
     "data": {
      "text/plain": [
       "(False, True, True, False)"
      ]
     },
     "execution_count": 29,
     "metadata": {},
     "output_type": "execute_result"
    }
   ],
   "source": [
    "# | test\n",
    "(\n",
    "    chaotic_xor(False, False),\n",
    "    chaotic_xor(False, True),\n",
    "    chaotic_xor(True, False),\n",
    "    chaotic_xor(True, True),\n",
    ")"
   ]
  },
  {
   "cell_type": "code",
   "execution_count": 30,
   "metadata": {},
   "outputs": [],
   "source": [
    "def chaotic_nand(x: bool, y: bool):\n",
    "    \"\"\"Chaotic NAND gate.\"\"\"\n",
    "    return logistic_map(NAND_X + x * DELTA + y * DELTA) > NAND_TRUE"
   ]
  },
  {
   "cell_type": "code",
   "execution_count": 31,
   "metadata": {},
   "outputs": [
    {
     "data": {
      "text/plain": [
       "(True, True, True, False)"
      ]
     },
     "execution_count": 31,
     "metadata": {},
     "output_type": "execute_result"
    }
   ],
   "source": [
    "# | test\n",
    "(\n",
    "    chaotic_nand(False, False),\n",
    "    chaotic_nand(False, True),\n",
    "    chaotic_nand(True, False),\n",
    "    chaotic_nand(True, True),\n",
    ")"
   ]
  },
  {
   "cell_type": "code",
   "execution_count": 32,
   "metadata": {},
   "outputs": [],
   "source": [
    "def chaotic_not(x: bool):\n",
    "    \"\"\"Chaotic NOT gate.\"\"\"\n",
    "    return chaotic_nand(x, x)"
   ]
  },
  {
   "cell_type": "code",
   "execution_count": 33,
   "metadata": {},
   "outputs": [
    {
     "data": {
      "text/plain": [
       "(True, False)"
      ]
     },
     "execution_count": 33,
     "metadata": {},
     "output_type": "execute_result"
    }
   ],
   "source": [
    "# | test\n",
    "(\n",
    "    chaotic_not(False),\n",
    "    chaotic_not(True),\n",
    ")"
   ]
  },
  {
   "cell_type": "code",
   "execution_count": 34,
   "metadata": {},
   "outputs": [],
   "source": [
    "def chaotic_half_adder(x: bool, y: bool):\n",
    "    \"\"\"Chaotic half adder.\"\"\"\n",
    "    return chaotic_xor(x, y), chaotic_and(x, y)"
   ]
  },
  {
   "cell_type": "code",
   "execution_count": 35,
   "metadata": {},
   "outputs": [
    {
     "data": {
      "text/plain": [
       "((False, False), (True, False), (True, False), (False, True))"
      ]
     },
     "execution_count": 35,
     "metadata": {},
     "output_type": "execute_result"
    }
   ],
   "source": [
    "# | test\n",
    "(\n",
    "    chaotic_half_adder(False, False),\n",
    "    chaotic_half_adder(False, True),\n",
    "    chaotic_half_adder(True, False),\n",
    "    chaotic_half_adder(True, True),\n",
    ")"
   ]
  },
  {
   "cell_type": "code",
   "execution_count": 36,
   "metadata": {},
   "outputs": [],
   "source": [
    "def chaotic_full_adder(x: bool, y: bool, c: bool):\n",
    "    \"\"\"Chaotic full adder.\"\"\"\n",
    "    s1, c1 = chaotic_half_adder(x, y)\n",
    "    s2, c2 = chaotic_half_adder(s1, c)\n",
    "    return s2, chaotic_or(c1, c2)"
   ]
  },
  {
   "cell_type": "code",
   "execution_count": 37,
   "metadata": {},
   "outputs": [
    {
     "data": {
      "text/plain": [
       "((False, False),\n",
       " (True, False),\n",
       " (True, False),\n",
       " (False, True),\n",
       " (True, False),\n",
       " (False, True),\n",
       " (False, True),\n",
       " (True, True))"
      ]
     },
     "execution_count": 37,
     "metadata": {},
     "output_type": "execute_result"
    }
   ],
   "source": [
    "# | test\n",
    "(\n",
    "    chaotic_full_adder(False, False, False),\n",
    "    chaotic_full_adder(False, False, True),\n",
    "    chaotic_full_adder(False, True, False),\n",
    "    chaotic_full_adder(False, True, True),\n",
    "    chaotic_full_adder(True, False, False),\n",
    "    chaotic_full_adder(True, False, True),\n",
    "    chaotic_full_adder(True, True, False),\n",
    "    chaotic_full_adder(True, True, True),\n",
    ")"
   ]
  },
  {
   "cell_type": "code",
   "execution_count": 38,
   "metadata": {},
   "outputs": [],
   "source": [
    "def chaotic_alu(x: bool, y: bool, z: bool, f: bool):\n",
    "    \"\"\"Chaotic ALU.\n",
    "    f = 0: addition\n",
    "    f = 1: logical AND\n",
    "    \"\"\"\n",
    "    return chaotic_full_adder(x, y, f)[z]"
   ]
  },
  {
   "cell_type": "code",
   "execution_count": 39,
   "metadata": {},
   "outputs": [
    {
     "data": {
      "text/plain": [
       "(False,\n",
       " True,\n",
       " False,\n",
       " False,\n",
       " True,\n",
       " False,\n",
       " False,\n",
       " True,\n",
       " True,\n",
       " False,\n",
       " False,\n",
       " True,\n",
       " False,\n",
       " True,\n",
       " True,\n",
       " True)"
      ]
     },
     "execution_count": 39,
     "metadata": {},
     "output_type": "execute_result"
    }
   ],
   "source": [
    "# | test\n",
    "(\n",
    "    chaotic_alu(False, False, False, False),\n",
    "    chaotic_alu(False, False, False, True),\n",
    "    chaotic_alu(False, False, True, False),\n",
    "    chaotic_alu(False, False, True, True),\n",
    "    chaotic_alu(False, True, False, False),\n",
    "    chaotic_alu(False, True, False, True),\n",
    "    chaotic_alu(False, True, True, False),\n",
    "    chaotic_alu(False, True, True, True),\n",
    "    chaotic_alu(True, False, False, False),\n",
    "    chaotic_alu(True, False, False, True),\n",
    "    chaotic_alu(True, False, True, False),\n",
    "    chaotic_alu(True, False, True, True),\n",
    "    chaotic_alu(True, True, False, False),\n",
    "    chaotic_alu(True, True, False, True),\n",
    "    chaotic_alu(True, True, True, False),\n",
    "    chaotic_alu(True, True, True, True),\n",
    ")"
   ]
  },
  {
   "cell_type": "code",
   "execution_count": 40,
   "metadata": {},
   "outputs": [],
   "source": [
    "def boollist2bin(b: list[bool]):\n",
    "    \"\"\"Convert boolean list to binary number.\"\"\"\n",
    "    return bin(sum(2**i for i, x in enumerate(b) if x))\n",
    "\n",
    "\n",
    "def boollist_to_bin_decorator(func):\n",
    "    \"\"\"Decorator to convert the output boolean list to a binary number.\"\"\"\n",
    "\n",
    "    def wrapper(*args, **kwargs):\n",
    "        result = func(*args, **kwargs)\n",
    "        return bin(sum(2**i for i, x in enumerate(result) if x))\n",
    "\n",
    "    return wrapper"
   ]
  },
  {
   "cell_type": "code",
   "execution_count": 41,
   "metadata": {},
   "outputs": [],
   "source": [
    "@boollist_to_bin_decorator\n",
    "def chaotic4bit_adder(a: int, b: int):\n",
    "    \"\"\"Chaotic 4-bit adder.\"\"\"\n",
    "    return [\n",
    "        chaotic_alu(bool(a >> i & 1), bool(b >> i & 1), False, False) for i in range(4)\n",
    "    ]"
   ]
  },
  {
   "cell_type": "code",
   "execution_count": 43,
   "metadata": {},
   "outputs": [
    {
     "data": {
      "text/plain": [
       "('0b0',\n",
       " '0b0',\n",
       " '0b10',\n",
       " '0b11',\n",
       " '0b100',\n",
       " '0b101',\n",
       " '0b110',\n",
       " '0b111',\n",
       " '0b1000',\n",
       " '0b1001',\n",
       " '0b1010',\n",
       " '0b1011',\n",
       " '0b1100',\n",
       " '0b1101',\n",
       " '0b1110',\n",
       " '0b1111')"
      ]
     },
     "execution_count": 43,
     "metadata": {},
     "output_type": "execute_result"
    }
   ],
   "source": [
    "# | test\n",
    "\n",
    "(\n",
    "    chaotic4bit_adder(0b0000, 0b0000),\n",
    "    chaotic4bit_adder(0b0001, 0b0001),\n",
    "    chaotic4bit_adder(0b0000, 0b0010),\n",
    "    chaotic4bit_adder(0b0000, 0b0011),\n",
    "    chaotic4bit_adder(0b0000, 0b0100),\n",
    "    chaotic4bit_adder(0b0000, 0b0101),\n",
    "    chaotic4bit_adder(0b0000, 0b0110),\n",
    "    chaotic4bit_adder(0b0000, 0b0111),\n",
    "    chaotic4bit_adder(0b0000, 0b1000),\n",
    "    chaotic4bit_adder(0b0000, 0b1001),\n",
    "    chaotic4bit_adder(0b0000, 0b1010),\n",
    "    chaotic4bit_adder(0b0000, 0b1011),\n",
    "    chaotic4bit_adder(0b0000, 0b1100),\n",
    "    chaotic4bit_adder(0b0000, 0b1101),\n",
    "    chaotic4bit_adder(0b0000, 0b1110),\n",
    "    chaotic4bit_adder(0b0000, 0b1111),\n",
    ")"
   ]
  },
  {
   "cell_type": "code",
   "execution_count": 13,
   "metadata": {},
   "outputs": [],
   "source": [
    "from dysts.flows import Lorenz, Duffing\n",
    "import matplotlib.pyplot as plt\n",
    "import numpy as np"
   ]
  },
  {
   "cell_type": "code",
   "execution_count": 14,
   "metadata": {},
   "outputs": [],
   "source": [
    "model = Lorenz()"
   ]
  },
  {
   "cell_type": "code",
   "execution_count": 16,
   "metadata": {},
   "outputs": [],
   "source": [
    "## Load and simulate an attractor\n",
    "model = Lorenz()\n",
    "sol = model.make_trajectory(1000, resample=True)\n",
    "plt.figure()\n",
    "plt.plot(sol[:, 0], sol[:, 1])\n",
    "\n",
    "\n",
    "## Change a parameter value\n",
    "model.sigma *= 2\n",
    "sol = model.make_trajectory(1000, resample=True)\n",
    "plt.figure()\n",
    "plt.plot(sol[:, 0], sol[:, 1])\n",
    "\n",
    "# ## Solve for multiple initial conditions\n",
    "model = Lorenz()\n",
    "model.ic = model.ic[None, :] * np.random.random(20)[:, None]\n",
    "sol = model.make_trajectory(100, resample=True)\n",
    "plt.figure()\n",
    "plt.plot(sol[..., 0].T, sol[..., 1].T);"
   ]
  },
  {
   "cell_type": "code",
   "execution_count": 12,
   "metadata": {},
   "outputs": [
    {
     "ename": "AttributeError",
     "evalue": "'list' object has no attribute 'ndim'",
     "output_type": "error",
     "traceback": [
      "\u001b[0;31m---------------------------------------------------------------------------\u001b[0m",
      "\u001b[0;31mAttributeError\u001b[0m                            Traceback (most recent call last)",
      "Cell \u001b[0;32mIn[12], line 1\u001b[0m\n\u001b[0;32m----> 1\u001b[0m sol \u001b[38;5;241m=\u001b[39m \u001b[43mmodel\u001b[49m\u001b[38;5;241;43m.\u001b[39;49m\u001b[43mmake_trajectory\u001b[49m\u001b[43m(\u001b[49m\u001b[38;5;241;43m1000\u001b[39;49m\u001b[43m)\u001b[49m\n",
      "File \u001b[0;32m~/projects/ChaoGateNN/.venv/lib/python3.12/site-packages/dysts/base.py:310\u001b[0m, in \u001b[0;36mDynSys.make_trajectory\u001b[0;34m(self, n, resample, pts_per_period, return_times, standardize, postprocess, noise, timescale, method, rtol, atol, **kwargs)\u001b[0m\n\u001b[1;32m    307\u001b[0m std \u001b[38;5;241m=\u001b[39m \u001b[38;5;28mself\u001b[39m\u001b[38;5;241m.\u001b[39mstd \u001b[38;5;28;01mif\u001b[39;00m standardize \u001b[38;5;28;01melse\u001b[39;00m np\u001b[38;5;241m.\u001b[39mones_like(\u001b[38;5;28mself\u001b[39m\u001b[38;5;241m.\u001b[39mic)\n\u001b[1;32m    309\u001b[0m \u001b[38;5;66;03m# check for analytical Jacobian, with condition of ic being a ndim array\u001b[39;00m\n\u001b[0;32m--> 310\u001b[0m \u001b[38;5;28;01mif\u001b[39;00m (\u001b[38;5;28;43mself\u001b[39;49m\u001b[38;5;241;43m.\u001b[39;49m\u001b[43mic\u001b[49m\u001b[38;5;241;43m.\u001b[39;49m\u001b[43mndim\u001b[49m \u001b[38;5;241m>\u001b[39m \u001b[38;5;241m1\u001b[39m \u001b[38;5;129;01mand\u001b[39;00m \u001b[38;5;28mself\u001b[39m\u001b[38;5;241m.\u001b[39mjac(\u001b[38;5;28mself\u001b[39m\u001b[38;5;241m.\u001b[39mic[\u001b[38;5;241m0\u001b[39m], \u001b[38;5;241m0\u001b[39m)) \u001b[38;5;129;01mor\u001b[39;00m \u001b[38;5;28mself\u001b[39m\u001b[38;5;241m.\u001b[39mjac(\n\u001b[1;32m    311\u001b[0m     \u001b[38;5;28mself\u001b[39m\u001b[38;5;241m.\u001b[39mic, \u001b[38;5;241m0\u001b[39m\n\u001b[1;32m    312\u001b[0m ) \u001b[38;5;129;01mis\u001b[39;00m \u001b[38;5;129;01mnot\u001b[39;00m \u001b[38;5;28;01mNone\u001b[39;00m:\n\u001b[1;32m    313\u001b[0m     jac \u001b[38;5;241m=\u001b[39m \u001b[38;5;28;01mlambda\u001b[39;00m t, x: \u001b[38;5;28mself\u001b[39m\u001b[38;5;241m.\u001b[39mjac(std \u001b[38;5;241m*\u001b[39m x \u001b[38;5;241m+\u001b[39m mu, t) \u001b[38;5;241m/\u001b[39m std\n\u001b[1;32m    314\u001b[0m \u001b[38;5;28;01melse\u001b[39;00m:\n",
      "\u001b[0;31mAttributeError\u001b[0m: 'list' object has no attribute 'ndim'"
     ]
    }
   ],
   "source": [
    "sol = model.make_trajectory(1000)"
   ]
  },
  {
   "cell_type": "code",
   "execution_count": 8,
   "metadata": {},
   "outputs": [
    {
     "data": {
      "text/plain": [
       "{'data_path': '/home/aradhak5/projects/ChaoGateNN/.venv/lib/python3.12/site-packages/dysts/data/chaotic_attractors.json',\n",
       " 'name': 'Lorenz',\n",
       " 'data': {'bifurcation_parameter': None,\n",
       "  'citation': 'Lorenz, Edward N (1963). Deterministic nonperiodic flow. Journal of the atmospheric sciences 20.2 (1963): 130-141.',\n",
       "  'correlation_dimension': 1.993931310517824,\n",
       "  'delay': False,\n",
       "  'description': 'A minimal weather model based on atmospheric convection.',\n",
       "  'dt': 0.0003002100350058257,\n",
       "  'embedding_dimension': 3,\n",
       "  'hamiltonian': False,\n",
       "  'initial_conditions': [-9.7869288, -15.03852, 20.533978],\n",
       "  'kaplan_yorke_dimension': 2.075158758095728,\n",
       "  'lyapunov_spectrum_estimated': [1.0910931847726466,\n",
       "   0.02994120961308413,\n",
       "   -14.915552395875103],\n",
       "  'maximum_lyapunov_estimated': 0.8917098035724058,\n",
       "  'multiscale_entropy': 1.1541457906835575,\n",
       "  'nonautonomous': False,\n",
       "  'parameters': {'beta': 2.667, 'rho': 28, 'sigma': 10},\n",
       "  'period': 1.5008,\n",
       "  'pesin_entropy': 1.121034394385731,\n",
       "  'unbounded_indices': [],\n",
       "  'mean': [-0.44713708338891345, -0.312509325103127, 23.545984293942695],\n",
       "  'std': [7.906225526391357, 8.999339290833237, 8.579487084165056]},\n",
       " 'params': {'beta': 2.667, 'rho': 28, 'sigma': 10},\n",
       " 'beta': 2.667,\n",
       " 'rho': 28,\n",
       " 'sigma': 10,\n",
       " 'param_list': [2.667, 28, 10],\n",
       " 'ic': array([ -9.7869288, -15.03852  ,  20.533978 ]),\n",
       " 'bifurcation_parameter': None,\n",
       " 'citation': 'Lorenz, Edward N (1963). Deterministic nonperiodic flow. Journal of the atmospheric sciences 20.2 (1963): 130-141.',\n",
       " 'correlation_dimension': 1.993931310517824,\n",
       " 'delay': False,\n",
       " 'description': 'A minimal weather model based on atmospheric convection.',\n",
       " 'dt': 0.0003002100350058257,\n",
       " 'embedding_dimension': 3,\n",
       " 'hamiltonian': False,\n",
       " 'initial_conditions': [-9.7869288, -15.03852, 20.533978],\n",
       " 'kaplan_yorke_dimension': 2.075158758095728,\n",
       " 'lyapunov_spectrum_estimated': [1.0910931847726466,\n",
       "  0.02994120961308413,\n",
       "  -14.915552395875103],\n",
       " 'maximum_lyapunov_estimated': 0.8917098035724058,\n",
       " 'multiscale_entropy': 1.1541457906835575,\n",
       " 'nonautonomous': False,\n",
       " 'parameters': {'beta': 2.667, 'rho': 28, 'sigma': 10},\n",
       " 'period': 1.5008,\n",
       " 'pesin_entropy': 1.121034394385731,\n",
       " 'unbounded_indices': [],\n",
       " 'mean': array([-0.44713708, -0.31250933, 23.54598429]),\n",
       " 'std': array([7.90622553, 8.99933929, 8.57948708])}"
      ]
     },
     "execution_count": 8,
     "metadata": {},
     "output_type": "execute_result"
    }
   ],
   "source": [
    "model.__dict__\n",
    "# model."
   ]
  },
  {
   "cell_type": "code",
   "execution_count": 2,
   "metadata": {},
   "outputs": [
    {
     "ename": "AttributeError",
     "evalue": "'list' object has no attribute 'ndim'",
     "output_type": "error",
     "traceback": [
      "\u001b[0;31m---------------------------------------------------------------------------\u001b[0m",
      "\u001b[0;31mAttributeError\u001b[0m                            Traceback (most recent call last)",
      "Cell \u001b[0;32mIn[2], line 4\u001b[0m\n\u001b[1;32m      2\u001b[0m model\u001b[38;5;241m.\u001b[39mgamma \u001b[38;5;241m=\u001b[39m \u001b[38;5;241m1\u001b[39m\n\u001b[1;32m      3\u001b[0m model\u001b[38;5;241m.\u001b[39mic \u001b[38;5;241m=\u001b[39m [\u001b[38;5;241m0.1\u001b[39m, \u001b[38;5;241m0.0\u001b[39m, \u001b[38;5;241m5\u001b[39m]\n\u001b[0;32m----> 4\u001b[0m sol \u001b[38;5;241m=\u001b[39m \u001b[43mmodel\u001b[49m\u001b[38;5;241;43m.\u001b[39;49m\u001b[43mmake_trajectory\u001b[49m\u001b[43m(\u001b[49m\u001b[38;5;241;43m1000\u001b[39;49m\u001b[43m)\u001b[49m\n",
      "File \u001b[0;32m~/projects/ChaoGateNN/.venv/lib/python3.12/site-packages/dysts/base.py:310\u001b[0m, in \u001b[0;36mDynSys.make_trajectory\u001b[0;34m(self, n, resample, pts_per_period, return_times, standardize, postprocess, noise, timescale, method, rtol, atol, **kwargs)\u001b[0m\n\u001b[1;32m    307\u001b[0m std \u001b[38;5;241m=\u001b[39m \u001b[38;5;28mself\u001b[39m\u001b[38;5;241m.\u001b[39mstd \u001b[38;5;28;01mif\u001b[39;00m standardize \u001b[38;5;28;01melse\u001b[39;00m np\u001b[38;5;241m.\u001b[39mones_like(\u001b[38;5;28mself\u001b[39m\u001b[38;5;241m.\u001b[39mic)\n\u001b[1;32m    309\u001b[0m \u001b[38;5;66;03m# check for analytical Jacobian, with condition of ic being a ndim array\u001b[39;00m\n\u001b[0;32m--> 310\u001b[0m \u001b[38;5;28;01mif\u001b[39;00m (\u001b[38;5;28;43mself\u001b[39;49m\u001b[38;5;241;43m.\u001b[39;49m\u001b[43mic\u001b[49m\u001b[38;5;241;43m.\u001b[39;49m\u001b[43mndim\u001b[49m \u001b[38;5;241m>\u001b[39m \u001b[38;5;241m1\u001b[39m \u001b[38;5;129;01mand\u001b[39;00m \u001b[38;5;28mself\u001b[39m\u001b[38;5;241m.\u001b[39mjac(\u001b[38;5;28mself\u001b[39m\u001b[38;5;241m.\u001b[39mic[\u001b[38;5;241m0\u001b[39m], \u001b[38;5;241m0\u001b[39m)) \u001b[38;5;129;01mor\u001b[39;00m \u001b[38;5;28mself\u001b[39m\u001b[38;5;241m.\u001b[39mjac(\n\u001b[1;32m    311\u001b[0m     \u001b[38;5;28mself\u001b[39m\u001b[38;5;241m.\u001b[39mic, \u001b[38;5;241m0\u001b[39m\n\u001b[1;32m    312\u001b[0m ) \u001b[38;5;129;01mis\u001b[39;00m \u001b[38;5;129;01mnot\u001b[39;00m \u001b[38;5;28;01mNone\u001b[39;00m:\n\u001b[1;32m    313\u001b[0m     jac \u001b[38;5;241m=\u001b[39m \u001b[38;5;28;01mlambda\u001b[39;00m t, x: \u001b[38;5;28mself\u001b[39m\u001b[38;5;241m.\u001b[39mjac(std \u001b[38;5;241m*\u001b[39m x \u001b[38;5;241m+\u001b[39m mu, t) \u001b[38;5;241m/\u001b[39m std\n\u001b[1;32m    314\u001b[0m \u001b[38;5;28;01melse\u001b[39;00m:\n",
      "\u001b[0;31mAttributeError\u001b[0m: 'list' object has no attribute 'ndim'"
     ]
    }
   ],
   "source": [
    "model = Lorenz()\n",
    "model.gamma = 1\n",
    "model.ic = [0.1, 0.0, 5]\n",
    "sol = model.make_trajectory(1000)"
   ]
  },
  {
   "cell_type": "code",
   "execution_count": null,
   "metadata": {},
   "outputs": [],
   "source": []
  }
 ],
 "metadata": {
  "kernelspec": {
   "display_name": ".venv",
   "language": "python",
   "name": "python3"
  },
  "language_info": {
   "codemirror_mode": {
    "name": "ipython",
    "version": 3
   },
   "file_extension": ".py",
   "mimetype": "text/x-python",
   "name": "python",
   "nbconvert_exporter": "python",
   "pygments_lexer": "ipython3",
   "version": "3.12.6"
  }
 },
 "nbformat": 4,
 "nbformat_minor": 2
}
