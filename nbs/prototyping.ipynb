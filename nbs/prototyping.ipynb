{
 "cells": [
  {
   "cell_type": "code",
   "execution_count": 22,
   "metadata": {},
   "outputs": [],
   "source": [
    "DELTA = 1 / 4\n",
    "\n",
    "AND_X = 0\n",
    "OR_X = 1 / 8\n",
    "XOR_X = 1 / 4\n",
    "NAND_X = 3 / 8\n",
    "\n",
    "AND_TRUE = 3 / 4\n",
    "OR_TRUE = 11 / 16\n",
    "XOR_TRUE = 3 / 4\n",
    "NAND_TRUE = 11 / 16"
   ]
  },
  {
   "cell_type": "code",
   "execution_count": 23,
   "metadata": {},
   "outputs": [],
   "source": [
    "def logistic_map(x: float, a: float = 4):\n",
    "    \"\"\"Logistic map function.\"\"\"\n",
    "    return a * x * (1 - x)"
   ]
  },
  {
   "cell_type": "code",
   "execution_count": 24,
   "metadata": {},
   "outputs": [],
   "source": [
    "def chaotic_and(x: bool, y: bool):\n",
    "    \"\"\"Chaotic AND gate.\"\"\"\n",
    "    return logistic_map(AND_X + x * DELTA + y * DELTA) > AND_TRUE"
   ]
  },
  {
   "cell_type": "code",
   "execution_count": 25,
   "metadata": {},
   "outputs": [
    {
     "data": {
      "text/plain": [
       "(False, False, False, True)"
      ]
     },
     "execution_count": 25,
     "metadata": {},
     "output_type": "execute_result"
    }
   ],
   "source": [
    "# | test\n",
    "(\n",
    "    chaotic_and(False, False),\n",
    "    chaotic_and(False, True),\n",
    "    chaotic_and(True, False),\n",
    "    chaotic_and(True, True),\n",
    ")"
   ]
  },
  {
   "cell_type": "code",
   "execution_count": 26,
   "metadata": {},
   "outputs": [],
   "source": [
    "def chaotic_or(x: bool, y: bool):\n",
    "    \"\"\"Chaotic OR gate.\"\"\"\n",
    "    return logistic_map(OR_X + x * DELTA + y * DELTA) > OR_TRUE"
   ]
  },
  {
   "cell_type": "code",
   "execution_count": 27,
   "metadata": {},
   "outputs": [
    {
     "data": {
      "text/plain": [
       "(False, True, True, True)"
      ]
     },
     "execution_count": 27,
     "metadata": {},
     "output_type": "execute_result"
    }
   ],
   "source": [
    "# | test\n",
    "(\n",
    "    chaotic_or(False, False),\n",
    "    chaotic_or(False, True),\n",
    "    chaotic_or(True, False),\n",
    "    chaotic_or(True, True),\n",
    ")"
   ]
  },
  {
   "cell_type": "code",
   "execution_count": 28,
   "metadata": {},
   "outputs": [],
   "source": [
    "def chaotic_xor(x: bool, y: bool):\n",
    "    \"\"\"Chaotic XOR gate.\"\"\"\n",
    "    return logistic_map(XOR_X + x * DELTA + y * DELTA) > XOR_TRUE"
   ]
  },
  {
   "cell_type": "code",
   "execution_count": 29,
   "metadata": {},
   "outputs": [
    {
     "data": {
      "text/plain": [
       "(False, True, True, False)"
      ]
     },
     "execution_count": 29,
     "metadata": {},
     "output_type": "execute_result"
    }
   ],
   "source": [
    "# | test\n",
    "(\n",
    "    chaotic_xor(False, False),\n",
    "    chaotic_xor(False, True),\n",
    "    chaotic_xor(True, False),\n",
    "    chaotic_xor(True, True),\n",
    ")"
   ]
  },
  {
   "cell_type": "code",
   "execution_count": 30,
   "metadata": {},
   "outputs": [],
   "source": [
    "def chaotic_nand(x: bool, y: bool):\n",
    "    \"\"\"Chaotic NAND gate.\"\"\"\n",
    "    return logistic_map(NAND_X + x * DELTA + y * DELTA) > NAND_TRUE"
   ]
  },
  {
   "cell_type": "code",
   "execution_count": 31,
   "metadata": {},
   "outputs": [
    {
     "data": {
      "text/plain": [
       "(True, True, True, False)"
      ]
     },
     "execution_count": 31,
     "metadata": {},
     "output_type": "execute_result"
    }
   ],
   "source": [
    "# | test\n",
    "(\n",
    "    chaotic_nand(False, False),\n",
    "    chaotic_nand(False, True),\n",
    "    chaotic_nand(True, False),\n",
    "    chaotic_nand(True, True),\n",
    ")"
   ]
  },
  {
   "cell_type": "code",
   "execution_count": 32,
   "metadata": {},
   "outputs": [],
   "source": [
    "def chaotic_not(x: bool):\n",
    "    \"\"\"Chaotic NOT gate.\"\"\"\n",
    "    return chaotic_nand(x, x)"
   ]
  },
  {
   "cell_type": "code",
   "execution_count": 33,
   "metadata": {},
   "outputs": [
    {
     "data": {
      "text/plain": [
       "(True, False)"
      ]
     },
     "execution_count": 33,
     "metadata": {},
     "output_type": "execute_result"
    }
   ],
   "source": [
    "# | test\n",
    "(\n",
    "    chaotic_not(False),\n",
    "    chaotic_not(True),\n",
    ")"
   ]
  },
  {
   "cell_type": "code",
   "execution_count": 34,
   "metadata": {},
   "outputs": [],
   "source": [
    "def chaotic_half_adder(x: bool, y: bool):\n",
    "    \"\"\"Chaotic half adder.\"\"\"\n",
    "    return chaotic_xor(x, y), chaotic_and(x, y)"
   ]
  },
  {
   "cell_type": "code",
   "execution_count": 35,
   "metadata": {},
   "outputs": [
    {
     "data": {
      "text/plain": [
       "((False, False), (True, False), (True, False), (False, True))"
      ]
     },
     "execution_count": 35,
     "metadata": {},
     "output_type": "execute_result"
    }
   ],
   "source": [
    "# | test\n",
    "(\n",
    "    chaotic_half_adder(False, False),\n",
    "    chaotic_half_adder(False, True),\n",
    "    chaotic_half_adder(True, False),\n",
    "    chaotic_half_adder(True, True),\n",
    ")"
   ]
  },
  {
   "cell_type": "code",
   "execution_count": 36,
   "metadata": {},
   "outputs": [],
   "source": [
    "def chaotic_full_adder(x: bool, y: bool, c: bool):\n",
    "    \"\"\"Chaotic full adder.\"\"\"\n",
    "    s1, c1 = chaotic_half_adder(x, y)\n",
    "    s2, c2 = chaotic_half_adder(s1, c)\n",
    "    return s2, chaotic_or(c1, c2)"
   ]
  },
  {
   "cell_type": "code",
   "execution_count": 37,
   "metadata": {},
   "outputs": [
    {
     "data": {
      "text/plain": [
       "((False, False),\n",
       " (True, False),\n",
       " (True, False),\n",
       " (False, True),\n",
       " (True, False),\n",
       " (False, True),\n",
       " (False, True),\n",
       " (True, True))"
      ]
     },
     "execution_count": 37,
     "metadata": {},
     "output_type": "execute_result"
    }
   ],
   "source": [
    "# | test\n",
    "(\n",
    "    chaotic_full_adder(False, False, False),\n",
    "    chaotic_full_adder(False, False, True),\n",
    "    chaotic_full_adder(False, True, False),\n",
    "    chaotic_full_adder(False, True, True),\n",
    "    chaotic_full_adder(True, False, False),\n",
    "    chaotic_full_adder(True, False, True),\n",
    "    chaotic_full_adder(True, True, False),\n",
    "    chaotic_full_adder(True, True, True),\n",
    ")"
   ]
  },
  {
   "cell_type": "code",
   "execution_count": 38,
   "metadata": {},
   "outputs": [],
   "source": [
    "def chaotic_alu(x: bool, y: bool, z: bool, f: bool):\n",
    "    \"\"\"Chaotic ALU.\n",
    "    f = 0: addition\n",
    "    f = 1: logical AND\n",
    "    \"\"\"\n",
    "    return chaotic_full_adder(x, y, f)[z]"
   ]
  },
  {
   "cell_type": "code",
   "execution_count": 39,
   "metadata": {},
   "outputs": [
    {
     "data": {
      "text/plain": [
       "(False,\n",
       " True,\n",
       " False,\n",
       " False,\n",
       " True,\n",
       " False,\n",
       " False,\n",
       " True,\n",
       " True,\n",
       " False,\n",
       " False,\n",
       " True,\n",
       " False,\n",
       " True,\n",
       " True,\n",
       " True)"
      ]
     },
     "execution_count": 39,
     "metadata": {},
     "output_type": "execute_result"
    }
   ],
   "source": [
    "# | test\n",
    "(\n",
    "    chaotic_alu(False, False, False, False),\n",
    "    chaotic_alu(False, False, False, True),\n",
    "    chaotic_alu(False, False, True, False),\n",
    "    chaotic_alu(False, False, True, True),\n",
    "    chaotic_alu(False, True, False, False),\n",
    "    chaotic_alu(False, True, False, True),\n",
    "    chaotic_alu(False, True, True, False),\n",
    "    chaotic_alu(False, True, True, True),\n",
    "    chaotic_alu(True, False, False, False),\n",
    "    chaotic_alu(True, False, False, True),\n",
    "    chaotic_alu(True, False, True, False),\n",
    "    chaotic_alu(True, False, True, True),\n",
    "    chaotic_alu(True, True, False, False),\n",
    "    chaotic_alu(True, True, False, True),\n",
    "    chaotic_alu(True, True, True, False),\n",
    "    chaotic_alu(True, True, True, True),\n",
    ")"
   ]
  },
  {
   "cell_type": "code",
   "execution_count": 40,
   "metadata": {},
   "outputs": [],
   "source": [
    "def boollist2bin(b: list[bool]):\n",
    "    \"\"\"Convert boolean list to binary number.\"\"\"\n",
    "    return bin(sum(2**i for i, x in enumerate(b) if x))\n",
    "\n",
    "\n",
    "def boollist_to_bin_decorator(func):\n",
    "    \"\"\"Decorator to convert the output boolean list to a binary number.\"\"\"\n",
    "\n",
    "    def wrapper(*args, **kwargs):\n",
    "        result = func(*args, **kwargs)\n",
    "        return bin(sum(2**i for i, x in enumerate(result) if x))\n",
    "\n",
    "    return wrapper"
   ]
  },
  {
   "cell_type": "code",
   "execution_count": 41,
   "metadata": {},
   "outputs": [],
   "source": [
    "@boollist_to_bin_decorator\n",
    "def chaotic4bit_adder(a: int, b: int):\n",
    "    \"\"\"Chaotic 4-bit adder.\"\"\"\n",
    "    return [\n",
    "        chaotic_alu(bool(a >> i & 1), bool(b >> i & 1), False, False) for i in range(4)\n",
    "    ]"
   ]
  },
  {
   "cell_type": "code",
   "execution_count": 43,
   "metadata": {},
   "outputs": [
    {
     "data": {
      "text/plain": [
       "('0b0',\n",
       " '0b0',\n",
       " '0b10',\n",
       " '0b11',\n",
       " '0b100',\n",
       " '0b101',\n",
       " '0b110',\n",
       " '0b111',\n",
       " '0b1000',\n",
       " '0b1001',\n",
       " '0b1010',\n",
       " '0b1011',\n",
       " '0b1100',\n",
       " '0b1101',\n",
       " '0b1110',\n",
       " '0b1111')"
      ]
     },
     "execution_count": 43,
     "metadata": {},
     "output_type": "execute_result"
    }
   ],
   "source": [
    "# | test\n",
    "\n",
    "(\n",
    "    chaotic4bit_adder(0b0000, 0b0000),\n",
    "    chaotic4bit_adder(0b0001, 0b0001),\n",
    "    chaotic4bit_adder(0b0000, 0b0010),\n",
    "    chaotic4bit_adder(0b0000, 0b0011),\n",
    "    chaotic4bit_adder(0b0000, 0b0100),\n",
    "    chaotic4bit_adder(0b0000, 0b0101),\n",
    "    chaotic4bit_adder(0b0000, 0b0110),\n",
    "    chaotic4bit_adder(0b0000, 0b0111),\n",
    "    chaotic4bit_adder(0b0000, 0b1000),\n",
    "    chaotic4bit_adder(0b0000, 0b1001),\n",
    "    chaotic4bit_adder(0b0000, 0b1010),\n",
    "    chaotic4bit_adder(0b0000, 0b1011),\n",
    "    chaotic4bit_adder(0b0000, 0b1100),\n",
    "    chaotic4bit_adder(0b0000, 0b1101),\n",
    "    chaotic4bit_adder(0b0000, 0b1110),\n",
    "    chaotic4bit_adder(0b0000, 0b1111),\n",
    ")"
   ]
  },
  {
   "cell_type": "code",
   "execution_count": null,
   "metadata": {},
   "outputs": [],
   "source": []
  }
 ],
 "metadata": {
  "kernelspec": {
   "display_name": ".venv",
   "language": "python",
   "name": "python3"
  },
  "language_info": {
   "codemirror_mode": {
    "name": "ipython",
    "version": 3
   },
   "file_extension": ".py",
   "mimetype": "text/x-python",
   "name": "python",
   "nbconvert_exporter": "python",
   "pygments_lexer": "ipython3",
   "version": "3.12.5"
  }
 },
 "nbformat": 4,
 "nbformat_minor": 2
}
